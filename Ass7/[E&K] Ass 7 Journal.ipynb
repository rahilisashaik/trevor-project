{
 "cells": [
  {
   "cell_type": "markdown",
   "id": "457cb026",
   "metadata": {},
   "source": [
    "## Search Volumes"
   ]
  },
  {
   "cell_type": "code",
   "execution_count": 1,
   "id": "82cf544e",
   "metadata": {},
   "outputs": [],
   "source": [
    "# imports\n",
    "import pandas as pd"
   ]
  },
  {
   "cell_type": "markdown",
   "id": "114c9640",
   "metadata": {},
   "source": [
    "Importing search terms excel as python dataframe."
   ]
  },
  {
   "cell_type": "code",
   "execution_count": null,
   "id": "e54df8c2",
   "metadata": {},
   "outputs": [],
   "source": [
    "search_terms_df = pd.read_excel(\"path_to_file.xlsx\")"
   ]
  }
 ],
 "metadata": {
  "kernelspec": {
   "display_name": "base",
   "language": "python",
   "name": "python3"
  },
  "language_info": {
   "name": "python",
   "version": "3.12.4"
  }
 },
 "nbformat": 4,
 "nbformat_minor": 5
}
